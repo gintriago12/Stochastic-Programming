{
 "cells": [
  {
   "cell_type": "code",
   "execution_count": 12,
   "metadata": {},
   "outputs": [],
   "source": [
    "import numpy as np\n",
    "import pandas as pd\n",
    "# Paquetes\n",
    "\n",
    "# Gurobi Python Interface\n",
    "from gurobipy import*"
   ]
  },
  {
   "cell_type": "code",
   "execution_count": 13,
   "metadata": {},
   "outputs": [],
   "source": [
    "# Data\n",
    "scenarios = [1,2,3]\n",
    "hrs_week = 168\n",
    "probs = {1:0.2,2:0.6,3:0.2}\n",
    "demands = {1:110,2:100,3:80}\n",
    "prices = {1:50,2:46,3:44}"
   ]
  },
  {
   "cell_type": "code",
   "execution_count": 14,
   "metadata": {},
   "outputs": [],
   "source": [
    "# Create Model\n",
    "model = Model('example 2.7')"
   ]
  },
  {
   "cell_type": "code",
   "execution_count": 15,
   "metadata": {},
   "outputs": [],
   "source": [
    "# Variables\n",
    "# Admission variable xi\n",
    "Pc = model.addVars(scenarios,name = \"Pc\",lb=0,ub=90,vtype=GRB.CONTINUOUS)\n",
    "# Qualification indicator\n",
    "Pi = model.addVars(scenarios,name=\"Pi\",lb=0,vtype=GRB.CONTINUOUS)\n",
    "\n",
    "# Model update\n",
    "model.update()"
   ]
  },
  {
   "cell_type": "code",
   "execution_count": 16,
   "metadata": {},
   "outputs": [],
   "source": [
    "# Objective\n",
    "obj = hrs_week*quicksum(probs[scenario]*(45*Pc[scenario] + prices[scenario]*Pi[scenario]) for scenario in scenarios)\n",
    "model.setObjective(obj, GRB.MINIMIZE) # maximize profit"
   ]
  },
  {
   "cell_type": "code",
   "execution_count": 17,
   "metadata": {},
   "outputs": [
    {
     "data": {
      "text/plain": [
       "<gurobi.Constr *Awaiting Model Update*>"
      ]
     },
     "execution_count": 17,
     "metadata": {},
     "output_type": "execute_result"
    }
   ],
   "source": [
    "# Constraints\n",
    "constraints = model.addConstrs(Pc[scenario] + Pi[scenario] >= demands[scenario] for scenario in scenarios)\n",
    "model.addConstr(Pc[1] == Pc[2])\n",
    "model.addConstr(Pc[1] == Pc[3])\n",
    "model.addConstr(Pc[2] == Pc[3])"
   ]
  },
  {
   "cell_type": "code",
   "execution_count": 18,
   "metadata": {},
   "outputs": [
    {
     "name": "stdout",
     "output_type": "stream",
     "text": [
      "Gurobi Optimizer version 9.5.0 build v9.5.0rc5 (mac64[x86])\n",
      "Thread count: 4 physical cores, 8 logical processors, using up to 8 threads\n",
      "Optimize a model with 6 rows, 6 columns and 12 nonzeros\n",
      "Model fingerprint: 0x7a46e521\n",
      "Coefficient statistics:\n",
      "  Matrix range     [1e+00, 1e+00]\n",
      "  Objective range  [1e+03, 5e+03]\n",
      "  Bounds range     [9e+01, 9e+01]\n",
      "  RHS range        [8e+01, 1e+02]\n",
      "Presolve removed 5 rows and 4 columns\n",
      "Presolve time: 0.00s\n",
      "Presolved: 1 rows, 2 columns, 2 nonzeros\n",
      "\n",
      "Iteration    Objective       Primal Inf.    Dual Inf.      Time\n",
      "       0    6.4848000e+05   1.000000e+01   0.000000e+00      0s\n",
      "       1    7.4793600e+05   0.000000e+00   0.000000e+00      0s\n",
      "\n",
      "Solved in 1 iterations and 0.01 seconds (0.00 work units)\n",
      "Optimal objective  7.479360000e+05\n"
     ]
    }
   ],
   "source": [
    "# Update model\n",
    "model.update()\n",
    "\n",
    "# Proceed to optimize\n",
    "model.optimize()"
   ]
  },
  {
   "cell_type": "code",
   "execution_count": 19,
   "metadata": {},
   "outputs": [
    {
     "data": {
      "text/html": [
       "<div>\n",
       "<style scoped>\n",
       "    .dataframe tbody tr th:only-of-type {\n",
       "        vertical-align: middle;\n",
       "    }\n",
       "\n",
       "    .dataframe tbody tr th {\n",
       "        vertical-align: top;\n",
       "    }\n",
       "\n",
       "    .dataframe thead th {\n",
       "        text-align: right;\n",
       "    }\n",
       "</style>\n",
       "<table border=\"1\" class=\"dataframe\">\n",
       "  <thead>\n",
       "    <tr style=\"text-align: right;\">\n",
       "      <th></th>\n",
       "      <th>Pool</th>\n",
       "      <th>Contract</th>\n",
       "    </tr>\n",
       "  </thead>\n",
       "  <tbody>\n",
       "    <tr>\n",
       "      <th>1</th>\n",
       "      <td>30.0</td>\n",
       "      <td>80.0</td>\n",
       "    </tr>\n",
       "    <tr>\n",
       "      <th>2</th>\n",
       "      <td>20.0</td>\n",
       "      <td>80.0</td>\n",
       "    </tr>\n",
       "    <tr>\n",
       "      <th>3</th>\n",
       "      <td>0.0</td>\n",
       "      <td>80.0</td>\n",
       "    </tr>\n",
       "  </tbody>\n",
       "</table>\n",
       "</div>"
      ],
      "text/plain": [
       "   Pool  Contract\n",
       "1  30.0      80.0\n",
       "2  20.0      80.0\n",
       "3   0.0      80.0"
      ]
     },
     "execution_count": 19,
     "metadata": {},
     "output_type": "execute_result"
    }
   ],
   "source": [
    "# Visualization\n",
    "rows = scenarios.copy()\n",
    "columns = [\"Pool\",\"Contract\"]\n",
    "Pi_table = pd.DataFrame(columns=columns, index=rows, data=0.0)\n",
    "\n",
    "for scenario in Pi.keys():\n",
    "    if (abs(Pi[scenario].x) >= 0):\n",
    "        Pi_table.loc[scenario, \"Pool\"] = np.round(Pi[scenario].x, 1)\n",
    "        Pi_table.loc[scenario, \"Contract\"] = np.round(Pc[scenario].x, 1)\n",
    "Pi_table"
   ]
  },
  {
   "cell_type": "code",
   "execution_count": null,
   "metadata": {},
   "outputs": [],
   "source": []
  },
  {
   "cell_type": "code",
   "execution_count": null,
   "metadata": {},
   "outputs": [],
   "source": []
  },
  {
   "cell_type": "code",
   "execution_count": null,
   "metadata": {},
   "outputs": [],
   "source": []
  },
  {
   "cell_type": "code",
   "execution_count": null,
   "metadata": {},
   "outputs": [],
   "source": []
  }
 ],
 "metadata": {
  "kernelspec": {
   "display_name": "Python 3",
   "language": "python",
   "name": "python3"
  },
  "language_info": {
   "codemirror_mode": {
    "name": "ipython",
    "version": 3
   },
   "file_extension": ".py",
   "mimetype": "text/x-python",
   "name": "python",
   "nbconvert_exporter": "python",
   "pygments_lexer": "ipython3",
   "version": "3.7.3"
  }
 },
 "nbformat": 4,
 "nbformat_minor": 4
}
