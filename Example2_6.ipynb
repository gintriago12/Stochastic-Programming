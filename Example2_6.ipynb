{
 "cells": [
  {
   "cell_type": "code",
   "execution_count": 48,
   "metadata": {},
   "outputs": [],
   "source": [
    "import numpy as np\n",
    "import pandas as pd\n",
    "# Paquetes\n",
    "\n",
    "# Gurobi Python Interface\n",
    "from gurobipy import*"
   ]
  },
  {
   "cell_type": "code",
   "execution_count": 49,
   "metadata": {},
   "outputs": [],
   "source": [
    "# Data\n",
    "scenarios = [1,2,3]\n",
    "hrs_week = 168\n",
    "probs = {1:0.2,2:0.6,3:0.2}\n",
    "demands = {1:110,2:100,3:80}\n",
    "prices = {1:50,2:46,3:44}"
   ]
  },
  {
   "cell_type": "code",
   "execution_count": 50,
   "metadata": {},
   "outputs": [],
   "source": [
    "# Create Model\n",
    "model = Model('example 2.6')"
   ]
  },
  {
   "cell_type": "code",
   "execution_count": 51,
   "metadata": {},
   "outputs": [],
   "source": [
    "# Variables\n",
    "# Admission variable xi\n",
    "Pc = model.addVar(name = \"Pc\",lb=0,ub=90,vtype=GRB.CONTINUOUS)\n",
    "# Qualification indicator\n",
    "Pi = model.addVars(scenarios,name=\"Pi\",lb=0,vtype=GRB.CONTINUOUS)\n",
    "\n",
    "# Model update\n",
    "model.update()"
   ]
  },
  {
   "cell_type": "code",
   "execution_count": 52,
   "metadata": {},
   "outputs": [],
   "source": [
    "# Objective\n",
    "obj = hrs_week*(45*Pc) + hrs_week*quicksum(probs[scenario]*prices[scenario]*Pi[scenario] for scenario in scenarios)\n",
    "model.setObjective(obj, GRB.MINIMIZE) # maximize profit"
   ]
  },
  {
   "cell_type": "code",
   "execution_count": 53,
   "metadata": {},
   "outputs": [],
   "source": [
    "# Constraints\n",
    "constraints = model.addConstrs(Pc + Pi[scenario] >= demands[scenario] for scenario in scenarios)"
   ]
  },
  {
   "cell_type": "code",
   "execution_count": 54,
   "metadata": {},
   "outputs": [
    {
     "name": "stdout",
     "output_type": "stream",
     "text": [
      "Gurobi Optimizer version 9.5.0 build v9.5.0rc5 (mac64[x86])\n",
      "Thread count: 4 physical cores, 8 logical processors, using up to 8 threads\n",
      "Optimize a model with 3 rows, 4 columns and 6 nonzeros\n",
      "Model fingerprint: 0x3193078e\n",
      "Coefficient statistics:\n",
      "  Matrix range     [1e+00, 1e+00]\n",
      "  Objective range  [1e+03, 8e+03]\n",
      "  Bounds range     [9e+01, 9e+01]\n",
      "  RHS range        [8e+01, 1e+02]\n",
      "Presolve removed 3 rows and 4 columns\n",
      "Presolve time: 0.00s\n",
      "Presolve: All rows and columns removed\n",
      "Iteration    Objective       Primal Inf.    Dual Inf.      Time\n",
      "       0    7.4793600e+05   0.000000e+00   0.000000e+00      0s\n",
      "\n",
      "Solved in 0 iterations and 0.01 seconds (0.00 work units)\n",
      "Optimal objective  7.479360000e+05\n"
     ]
    }
   ],
   "source": [
    "# Update model\n",
    "model.update()\n",
    "\n",
    "# Proceed to optimize\n",
    "model.optimize()"
   ]
  },
  {
   "cell_type": "code",
   "execution_count": 55,
   "metadata": {},
   "outputs": [
    {
     "data": {
      "text/html": [
       "<div>\n",
       "<style scoped>\n",
       "    .dataframe tbody tr th:only-of-type {\n",
       "        vertical-align: middle;\n",
       "    }\n",
       "\n",
       "    .dataframe tbody tr th {\n",
       "        vertical-align: top;\n",
       "    }\n",
       "\n",
       "    .dataframe thead th {\n",
       "        text-align: right;\n",
       "    }\n",
       "</style>\n",
       "<table border=\"1\" class=\"dataframe\">\n",
       "  <thead>\n",
       "    <tr style=\"text-align: right;\">\n",
       "      <th></th>\n",
       "      <th>Power bought</th>\n",
       "    </tr>\n",
       "  </thead>\n",
       "  <tbody>\n",
       "    <tr>\n",
       "      <th>1</th>\n",
       "      <td>30.0</td>\n",
       "    </tr>\n",
       "    <tr>\n",
       "      <th>2</th>\n",
       "      <td>20.0</td>\n",
       "    </tr>\n",
       "    <tr>\n",
       "      <th>3</th>\n",
       "      <td>0.0</td>\n",
       "    </tr>\n",
       "    <tr>\n",
       "      <th>contract</th>\n",
       "      <td>80.0</td>\n",
       "    </tr>\n",
       "  </tbody>\n",
       "</table>\n",
       "</div>"
      ],
      "text/plain": [
       "          Power bought\n",
       "1                 30.0\n",
       "2                 20.0\n",
       "3                  0.0\n",
       "contract          80.0"
      ]
     },
     "execution_count": 55,
     "metadata": {},
     "output_type": "execute_result"
    }
   ],
   "source": [
    "# Visualization\n",
    "rows = scenarios.copy() + [\"contract\"]\n",
    "columns = [\"Power bought\"]\n",
    "Pi_table = pd.DataFrame(columns=columns, index=rows, data=0.0)\n",
    "\n",
    "for scenario in Pi.keys():\n",
    "    if (abs(Pi[scenario].x) > 1e-6):\n",
    "        Pi_table.loc[scenario, \"Power bought\"] = np.round(Pi[scenario].x, 1)\n",
    "Pi_table.loc[\"contract\", \"Power bought\"] = np.round(Pc.x, 1)\n",
    "Pi_table"
   ]
  },
  {
   "cell_type": "code",
   "execution_count": null,
   "metadata": {},
   "outputs": [],
   "source": []
  },
  {
   "cell_type": "code",
   "execution_count": null,
   "metadata": {},
   "outputs": [],
   "source": []
  },
  {
   "cell_type": "code",
   "execution_count": null,
   "metadata": {},
   "outputs": [],
   "source": []
  }
 ],
 "metadata": {
  "kernelspec": {
   "display_name": "Python 3",
   "language": "python",
   "name": "python3"
  },
  "language_info": {
   "codemirror_mode": {
    "name": "ipython",
    "version": 3
   },
   "file_extension": ".py",
   "mimetype": "text/x-python",
   "name": "python",
   "nbconvert_exporter": "python",
   "pygments_lexer": "ipython3",
   "version": "3.7.3"
  }
 },
 "nbformat": 4,
 "nbformat_minor": 4
}
