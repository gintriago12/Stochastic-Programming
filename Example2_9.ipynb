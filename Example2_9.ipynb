{
 "cells": [
  {
   "cell_type": "code",
   "execution_count": 1,
   "metadata": {},
   "outputs": [
    {
     "name": "stderr",
     "output_type": "stream",
     "text": [
      "/Users/gintriag/anaconda3/lib/python3.7/site-packages/pandas/compat/_optional.py:138: UserWarning: Pandas requires version '2.7.0' or newer of 'numexpr' (version '2.6.9' currently installed).\n",
      "  warnings.warn(msg, UserWarning)\n"
     ]
    }
   ],
   "source": [
    "import numpy as np\n",
    "import pandas as pd\n",
    "# Paquetes\n",
    "\n",
    "# Gurobi Python Interface\n",
    "from gurobipy import*"
   ]
  },
  {
   "cell_type": "code",
   "execution_count": 2,
   "metadata": {},
   "outputs": [],
   "source": [
    "# Data\n",
    "scenarios = [1,2,3,4]\n",
    "sec_stage = [1,3]\n"
   ]
  },
  {
   "cell_type": "code",
   "execution_count": 3,
   "metadata": {},
   "outputs": [
    {
     "name": "stdout",
     "output_type": "stream",
     "text": [
      "Set parameter Username\n",
      "Academic license - for non-commercial use only - expires 2023-02-19\n"
     ]
    }
   ],
   "source": [
    "# Create Model\n",
    "model = Model('example 2.8')"
   ]
  },
  {
   "cell_type": "code",
   "execution_count": 4,
   "metadata": {},
   "outputs": [],
   "source": [
    "# Variables\n",
    "PA = model.addVar(name = \"PA\",lb=0,ub=50,vtype=GRB.CONTINUOUS)\n",
    "PB = model.addVars(sec_stage,name = \"PB\",lb=0,ub=40,vtype=GRB.CONTINUOUS)\n",
    "Pt1 = model.addVars(sec_stage,name = \"Pt1\",lb=0,vtype=GRB.CONTINUOUS)\n",
    "Pt2 = model.addVars(scenarios,name = \"Pt2\",lb=0,vtype=GRB.CONTINUOUS)\n",
    "\n",
    "# Model update\n",
    "model.update()"
   ]
  },
  {
   "cell_type": "code",
   "execution_count": 5,
   "metadata": {},
   "outputs": [],
   "source": [
    "# Objective\n",
    "obj = 25*144*PA + 0.4*72*(26*PB[1] + 27*Pt1[1] + 0.4*28*Pt2[1] + 0.6*26*Pt2[2]) + 0.6*72*(26*PB[3] + 23*Pt1[3] + 0.4*24*Pt2[3] + 0.6*22*Pt2[4])\n",
    "model.setObjective(obj, GRB.MAXIMIZE) # maximize profit\n"
   ]
  },
  {
   "cell_type": "code",
   "execution_count": 6,
   "metadata": {},
   "outputs": [
    {
     "data": {
      "text/plain": [
       "{3: <gurobi.Constr *Awaiting Model Update*>,\n",
       " 4: <gurobi.Constr *Awaiting Model Update*>}"
      ]
     },
     "execution_count": 6,
     "metadata": {},
     "output_type": "execute_result"
    }
   ],
   "source": [
    "# Constraints\n",
    "# Power produced in first period cap consist of contract A and pool and is capped by 120 MW\n",
    "model.addConstrs(PA + Pt1[index] <= 120 for index in sec_stage)\n",
    "# Power produced in first period cap consist of contract A, B and pool and is capped by 120 MW\n",
    "model.addConstrs(PA + PB[1] + Pt2[scenario] <= 120 for scenario in scenarios[:2])\n",
    "model.addConstrs(PA + PB[3] + Pt2[scenario] <= 120 for scenario in scenarios[2:])"
   ]
  },
  {
   "cell_type": "code",
   "execution_count": 7,
   "metadata": {},
   "outputs": [
    {
     "name": "stdout",
     "output_type": "stream",
     "text": [
      "Gurobi Optimizer version 9.5.0 build v9.5.0rc5 (mac64[x86])\n",
      "Thread count: 4 physical cores, 8 logical processors, using up to 8 threads\n",
      "Optimize a model with 6 rows, 9 columns and 16 nonzeros\n",
      "Model fingerprint: 0x6541feb4\n",
      "Coefficient statistics:\n",
      "  Matrix range     [1e+00, 1e+00]\n",
      "  Objective range  [3e+02, 4e+03]\n",
      "  Bounds range     [4e+01, 5e+01]\n",
      "  RHS range        [1e+02, 1e+02]\n",
      "Presolve removed 6 rows and 9 columns\n",
      "Presolve time: 0.00s\n",
      "Presolve: All rows and columns removed\n",
      "Iteration    Objective       Primal Inf.    Dual Inf.      Time\n",
      "       0    4.3248960e+05   0.000000e+00   0.000000e+00      0s\n",
      "\n",
      "Solved in 0 iterations and 0.01 seconds (0.00 work units)\n",
      "Optimal objective  4.324896000e+05\n"
     ]
    }
   ],
   "source": [
    "# Update model\n",
    "model.update()\n",
    "\n",
    "# Proceed to optimize\n",
    "model.optimize()"
   ]
  },
  {
   "cell_type": "code",
   "execution_count": 9,
   "metadata": {},
   "outputs": [
    {
     "data": {
      "text/html": [
       "<div>\n",
       "<style scoped>\n",
       "    .dataframe tbody tr th:only-of-type {\n",
       "        vertical-align: middle;\n",
       "    }\n",
       "\n",
       "    .dataframe tbody tr th {\n",
       "        vertical-align: top;\n",
       "    }\n",
       "\n",
       "    .dataframe thead th {\n",
       "        text-align: right;\n",
       "    }\n",
       "</style>\n",
       "<table border=\"1\" class=\"dataframe\">\n",
       "  <thead>\n",
       "    <tr style=\"text-align: right;\">\n",
       "      <th></th>\n",
       "      <th>PA</th>\n",
       "      <th>PB1</th>\n",
       "      <th>PB3</th>\n",
       "      <th>Pt1_1</th>\n",
       "      <th>Pt1_3</th>\n",
       "      <th>Pt2_1</th>\n",
       "      <th>Pt2_2</th>\n",
       "      <th>Pt2_3</th>\n",
       "      <th>Pt2_4</th>\n",
       "    </tr>\n",
       "  </thead>\n",
       "  <tbody>\n",
       "    <tr>\n",
       "      <th>1</th>\n",
       "      <td>50.0</td>\n",
       "      <td>0.0</td>\n",
       "      <td>40.0</td>\n",
       "      <td>70.0</td>\n",
       "      <td>70.0</td>\n",
       "      <td>70.0</td>\n",
       "      <td>70.0</td>\n",
       "      <td>30.0</td>\n",
       "      <td>30.0</td>\n",
       "    </tr>\n",
       "  </tbody>\n",
       "</table>\n",
       "</div>"
      ],
      "text/plain": [
       "     PA  PB1   PB3  Pt1_1  Pt1_3  Pt2_1  Pt2_2  Pt2_3  Pt2_4\n",
       "1  50.0  0.0  40.0   70.0   70.0   70.0   70.0   30.0   30.0"
      ]
     },
     "execution_count": 9,
     "metadata": {},
     "output_type": "execute_result"
    }
   ],
   "source": [
    "# Visualization\n",
    "rows = [1]\n",
    "columns = [\"PA\",\"PB1\",\"PB3\",\"Pt1_1\",\"Pt1_3\",\"Pt2_1\",\"Pt2_2\",\"Pt2_3\",\"Pt2_4\"]\n",
    "Pi_table = pd.DataFrame(columns=columns, index=rows, data=0.0)\n",
    "\n",
    "Pi_table.loc[1,\"PA\"] = np.round(PA.x, 1)\n",
    "Pi_table.loc[1,\"PB1\"] = np.round(PB[1].x, 1)\n",
    "Pi_table.loc[1,\"PB3\"] = np.round(PB[3].x, 1)\n",
    "Pi_table.loc[1,\"Pt1_1\"] = np.round(Pt1[1].x, 1)\n",
    "Pi_table.loc[1,\"Pt1_3\"] = np.round(Pt1[3].x, 1)\n",
    "Pi_table.loc[1,\"Pt2_1\"] = np.round(Pt2[1].x, 1)\n",
    "Pi_table.loc[1,\"Pt2_2\"] = np.round(Pt2[2].x, 1)\n",
    "Pi_table.loc[1,\"Pt2_3\"] = np.round(Pt2[3].x, 1)\n",
    "Pi_table.loc[1,\"Pt2_4\"] = np.round(Pt2[4].x, 1)\n",
    "    \n",
    "Pi_table"
   ]
  },
  {
   "cell_type": "code",
   "execution_count": null,
   "metadata": {},
   "outputs": [],
   "source": []
  },
  {
   "cell_type": "code",
   "execution_count": null,
   "metadata": {},
   "outputs": [],
   "source": []
  },
  {
   "cell_type": "code",
   "execution_count": null,
   "metadata": {},
   "outputs": [],
   "source": []
  },
  {
   "cell_type": "code",
   "execution_count": null,
   "metadata": {},
   "outputs": [],
   "source": []
  }
 ],
 "metadata": {
  "kernelspec": {
   "display_name": "Python 3",
   "language": "python",
   "name": "python3"
  },
  "language_info": {
   "codemirror_mode": {
    "name": "ipython",
    "version": 3
   },
   "file_extension": ".py",
   "mimetype": "text/x-python",
   "name": "python",
   "nbconvert_exporter": "python",
   "pygments_lexer": "ipython3",
   "version": "3.7.3"
  }
 },
 "nbformat": 4,
 "nbformat_minor": 4
}
