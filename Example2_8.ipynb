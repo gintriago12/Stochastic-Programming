{
 "cells": [
  {
   "cell_type": "code",
   "execution_count": 15,
   "metadata": {},
   "outputs": [],
   "source": [
    "import numpy as np\n",
    "import pandas as pd\n",
    "# Paquetes\n",
    "\n",
    "# Gurobi Python Interface\n",
    "from gurobipy import*"
   ]
  },
  {
   "cell_type": "code",
   "execution_count": 16,
   "metadata": {},
   "outputs": [],
   "source": [
    "# Data\n",
    "scenarios = [1,2,3,4]\n",
    "vartypes = [\"A\",\"B\",\"t1\",\"t2\"]\n",
    "hrs_3days = float(72)\n",
    "probs = {1:0.16,2:0.24,3:0.24,4:0.36}\n",
    "prices = {1:[2*25,26,27,28],2:[2*25,26,27,26],3:[2*25,26,23,24],4:[2*25,26,23,22]}"
   ]
  },
  {
   "cell_type": "code",
   "execution_count": 17,
   "metadata": {},
   "outputs": [],
   "source": [
    "# Create Model\n",
    "model = Model('example 2.8')"
   ]
  },
  {
   "cell_type": "code",
   "execution_count": 18,
   "metadata": {},
   "outputs": [],
   "source": [
    "# Variables\n",
    "P = model.addVars(scenarios,vartypes,name = \"P\",lb=0,vtype=GRB.CONTINUOUS)\n",
    "\n",
    "# Model update\n",
    "model.update()"
   ]
  },
  {
   "cell_type": "code",
   "execution_count": 19,
   "metadata": {},
   "outputs": [],
   "source": [
    "# Objective\n",
    "obj = quicksum(probs[scenario]*hrs_3days*quicksum(prices[scenario][i]*P[scenario,vartype] for i,vartype in enumerate(vartypes)) for scenario in scenarios)\n",
    "model.setObjective(obj, GRB.MAXIMIZE) # maximize profit\n"
   ]
  },
  {
   "cell_type": "code",
   "execution_count": 20,
   "metadata": {},
   "outputs": [
    {
     "data": {
      "text/plain": [
       "<gurobi.Constr *Awaiting Model Update*>"
      ]
     },
     "execution_count": 20,
     "metadata": {},
     "output_type": "execute_result"
    }
   ],
   "source": [
    "# Constraints\n",
    "# Power produced in first period cap consist of contract A and pool and is capped by 120 MW\n",
    "model.addConstrs(P[scenario,\"A\"] + P[scenario,\"t1\"] <= 120 for scenario in scenarios)\n",
    "# Power produced in first period cap consist of contract A, B and pool and is capped by 120 MW\n",
    "model.addConstrs(P[scenario,\"A\"] + P[scenario,\"B\"] + P[scenario,\"t2\"] <= 120 for scenario in scenarios)\n",
    "\n",
    "model.addConstrs(P[scenario,\"A\"] <= 50 for scenario in scenarios)\n",
    "\n",
    "model.addConstrs(P[scenario,\"B\"] <= 40 for scenario in scenarios)\n",
    "\n",
    "\n",
    "model.addConstr(P[1,\"A\"] == P[2,\"A\"])\n",
    "model.addConstr(P[1,\"A\"] == P[3,\"A\"])\n",
    "model.addConstr(P[1,\"A\"] == P[4,\"A\"])\n",
    "model.addConstr(P[2,\"A\"] == P[3,\"A\"])\n",
    "model.addConstr(P[2,\"A\"] == P[4,\"A\"])\n",
    "model.addConstr(P[3,\"A\"] == P[4,\"A\"])\n",
    "\n",
    "model.addConstr(P[1,\"B\"] == P[2,\"B\"])\n",
    "model.addConstr(P[3,\"B\"] == P[4,\"B\"])\n",
    "\n",
    "model.addConstr(P[1,\"t1\"] == P[2,\"t1\"])\n",
    "model.addConstr(P[3,\"t1\"] == P[4,\"t1\"])"
   ]
  },
  {
   "cell_type": "code",
   "execution_count": 21,
   "metadata": {},
   "outputs": [
    {
     "name": "stdout",
     "output_type": "stream",
     "text": [
      "Gurobi Optimizer version 9.5.0 build v9.5.0rc5 (mac64[x86])\n",
      "Thread count: 4 physical cores, 8 logical processors, using up to 8 threads\n",
      "Optimize a model with 26 rows, 16 columns and 48 nonzeros\n",
      "Model fingerprint: 0x70e4e241\n",
      "Coefficient statistics:\n",
      "  Matrix range     [1e+00, 1e+00]\n",
      "  Objective range  [3e+02, 1e+03]\n",
      "  Bounds range     [0e+00, 0e+00]\n",
      "  RHS range        [4e+01, 1e+02]\n",
      "Presolve removed 26 rows and 16 columns\n",
      "Presolve time: 0.00s\n",
      "Presolve: All rows and columns removed\n",
      "Iteration    Objective       Primal Inf.    Dual Inf.      Time\n",
      "       0    4.3248960e+05   0.000000e+00   0.000000e+00      0s\n",
      "\n",
      "Solved in 0 iterations and 0.01 seconds (0.00 work units)\n",
      "Optimal objective  4.324896000e+05\n"
     ]
    }
   ],
   "source": [
    "# Update model\n",
    "model.update()\n",
    "\n",
    "# Proceed to optimize\n",
    "model.optimize()"
   ]
  },
  {
   "cell_type": "code",
   "execution_count": 22,
   "metadata": {},
   "outputs": [
    {
     "data": {
      "text/html": [
       "<div>\n",
       "<style scoped>\n",
       "    .dataframe tbody tr th:only-of-type {\n",
       "        vertical-align: middle;\n",
       "    }\n",
       "\n",
       "    .dataframe tbody tr th {\n",
       "        vertical-align: top;\n",
       "    }\n",
       "\n",
       "    .dataframe thead th {\n",
       "        text-align: right;\n",
       "    }\n",
       "</style>\n",
       "<table border=\"1\" class=\"dataframe\">\n",
       "  <thead>\n",
       "    <tr style=\"text-align: right;\">\n",
       "      <th></th>\n",
       "      <th>A</th>\n",
       "      <th>B</th>\n",
       "      <th>t1</th>\n",
       "      <th>t2</th>\n",
       "    </tr>\n",
       "  </thead>\n",
       "  <tbody>\n",
       "    <tr>\n",
       "      <th>1</th>\n",
       "      <td>50.0</td>\n",
       "      <td>0.0</td>\n",
       "      <td>70.0</td>\n",
       "      <td>70.0</td>\n",
       "    </tr>\n",
       "    <tr>\n",
       "      <th>2</th>\n",
       "      <td>50.0</td>\n",
       "      <td>0.0</td>\n",
       "      <td>70.0</td>\n",
       "      <td>70.0</td>\n",
       "    </tr>\n",
       "    <tr>\n",
       "      <th>3</th>\n",
       "      <td>50.0</td>\n",
       "      <td>40.0</td>\n",
       "      <td>70.0</td>\n",
       "      <td>30.0</td>\n",
       "    </tr>\n",
       "    <tr>\n",
       "      <th>4</th>\n",
       "      <td>50.0</td>\n",
       "      <td>40.0</td>\n",
       "      <td>70.0</td>\n",
       "      <td>30.0</td>\n",
       "    </tr>\n",
       "  </tbody>\n",
       "</table>\n",
       "</div>"
      ],
      "text/plain": [
       "      A     B    t1    t2\n",
       "1  50.0   0.0  70.0  70.0\n",
       "2  50.0   0.0  70.0  70.0\n",
       "3  50.0  40.0  70.0  30.0\n",
       "4  50.0  40.0  70.0  30.0"
      ]
     },
     "execution_count": 22,
     "metadata": {},
     "output_type": "execute_result"
    }
   ],
   "source": [
    "# Visualization\n",
    "rows = scenarios.copy()\n",
    "columns = [\"A\",\"B\",\"t1\",\"t2\"]\n",
    "Pi_table = pd.DataFrame(columns=columns, index=rows, data=0.0)\n",
    "\n",
    "for (scenario,vartype) in P.keys():\n",
    "    Pi_table.loc[scenario,vartype] = np.round(P[scenario,vartype].x, 1)\n",
    "    \n",
    "Pi_table"
   ]
  },
  {
   "cell_type": "code",
   "execution_count": null,
   "metadata": {},
   "outputs": [],
   "source": []
  },
  {
   "cell_type": "code",
   "execution_count": null,
   "metadata": {},
   "outputs": [],
   "source": []
  },
  {
   "cell_type": "code",
   "execution_count": null,
   "metadata": {},
   "outputs": [],
   "source": []
  },
  {
   "cell_type": "code",
   "execution_count": null,
   "metadata": {},
   "outputs": [],
   "source": []
  }
 ],
 "metadata": {
  "kernelspec": {
   "display_name": "Python 3",
   "language": "python",
   "name": "python3"
  },
  "language_info": {
   "codemirror_mode": {
    "name": "ipython",
    "version": 3
   },
   "file_extension": ".py",
   "mimetype": "text/x-python",
   "name": "python",
   "nbconvert_exporter": "python",
   "pygments_lexer": "ipython3",
   "version": "3.7.3"
  }
 },
 "nbformat": 4,
 "nbformat_minor": 4
}
